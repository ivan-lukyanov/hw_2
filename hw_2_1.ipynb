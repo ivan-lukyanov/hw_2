{
 "cells": [
  {
   "cell_type": "markdown",
   "metadata": {},
   "source": [
    "### Задание 1\n",
    "Дана переменная, в которой хранится слово из латинских букв. Напишите код, который выводит на экран:\n",
    "\n",
    "- среднюю букву, если число букв в слове нечетное;  \n",
    "- две средних буквы, если число букв четное.  "
   ]
  },
  {
   "cell_type": "code",
   "execution_count": 13,
   "metadata": {},
   "outputs": [],
   "source": [
    "my_string = 'world'"
   ]
  },
  {
   "cell_type": "code",
   "execution_count": 14,
   "metadata": {},
   "outputs": [],
   "source": [
    "count_str = len(my_string)"
   ]
  },
  {
   "cell_type": "code",
   "execution_count": 15,
   "metadata": {},
   "outputs": [
    {
     "name": "stdout",
     "output_type": "stream",
     "text": [
      "r\n"
     ]
    }
   ],
   "source": [
    "if len(my_string) % 2 != 0:\n",
    "    even = (round(count_str/2))\n",
    "    print(my_string[even])\n",
    "else:\n",
    "    uneven = round((count_str/2)-1)\n",
    "    uneven_1 = uneven+2\n",
    "    print(my_string[uneven: uneven_1])"
   ]
  },
  {
   "cell_type": "markdown",
   "metadata": {},
   "source": [
    "### Задание 2\n",
    "Напишите программу, которая последовательно запрашивает у пользователя числа (по одному за раз) и после первого нуля выводит сумму всех ранее введенных чисел."
   ]
  },
  {
   "cell_type": "code",
   "execution_count": 37,
   "metadata": {},
   "outputs": [
    {
     "name": "stdout",
     "output_type": "stream",
     "text": [
      "Ведите число:4\n",
      "Ведите число:5\n",
      "Ведите число:7\n",
      "Ведите число:8\n",
      "Ведите число:0\n",
      "24\n"
     ]
    }
   ],
   "source": [
    "result = 0\n",
    "while True:\n",
    "    num = int(input('Ведите число:')) \n",
    "    if num == 0: \n",
    "        break\n",
    "    else:\n",
    "        result += num \n",
    "print(result)"
   ]
  },
  {
   "cell_type": "markdown",
   "metadata": {},
   "source": [
    "### Задание 3\n",
    "Мы делаем MVP dating-сервиса, и у нас есть список парней и девушек.\n",
    "Выдвигаем гипотезу: лучшие рекомендации мы получим, если просто **отсортируем имена по алфавиту** и познакомим людей с **одинаковыми индексами** после сортировки! Но мы не будем никого знакомить, если кто-то может остаться без пары:"
   ]
  },
  {
   "cell_type": "code",
   "execution_count": 16,
   "metadata": {},
   "outputs": [],
   "source": [
    "boys = ['Misha', 'Ivan', 'Alex', 'Boris']\n",
    "girls = ['Masha', 'Dasha', 'Lisa', 'Katya']"
   ]
  },
  {
   "cell_type": "code",
   "execution_count": 17,
   "metadata": {
    "scrolled": false
   },
   "outputs": [
    {
     "name": "stdout",
     "output_type": "stream",
     "text": [
      "Идеальные пары\n",
      "Alex, Dasha\n",
      "Boris, Katya\n",
      "Ivan, Lisa\n",
      "Misha, Masha\n"
     ]
    }
   ],
   "source": [
    "if len(boys) == len(girls):\n",
    "    print('Идеальные пары')\n",
    "    for boy_name, girl_name in zip(sorted(boys), sorted(girls)):\n",
    "        print(f'{boy_name}, {girl_name}')\n",
    "else:\n",
    "    print('Внимание, кто-то может остаться без пары!')"
   ]
  },
  {
   "cell_type": "markdown",
   "metadata": {},
   "source": [
    "### Задание 4\n",
    "У нас есть список, содержащий информацию о среднедневной температуре в Фаренгейтах за произвольный период по странам (структура данных в примере). Необходимо написать код, который рассчитает **среднюю температуру** за период в **Цельсиях(!)** для каждой страны."
   ]
  },
  {
   "cell_type": "code",
   "execution_count": 2,
   "metadata": {},
   "outputs": [],
   "source": [
    "countries_temperature = [\n",
    "    ['Thailand', [75.2, 77, 78.8, 73.4, 68, 75.2, 77]],\n",
    "    ['Germany', [57.2, 55.4, 59, 59, 53.6]],\n",
    "    ['Russia', [35.6, 37.4, 39.2, 41, 42.8, 39.2, 35.6]],\n",
    "    ['Poland', [50, 50, 53.6, 57.2, 55.4, 55.4]]\n",
    "]"
   ]
  },
  {
   "cell_type": "code",
   "execution_count": 3,
   "metadata": {},
   "outputs": [
    {
     "name": "stdout",
     "output_type": "stream",
     "text": [
      "Средняя температура в странах:\n",
      "Thailand - 23.9 C\n",
      "Germany - 13.8 C\n",
      "Russia - 3.7 C\n",
      "Poland - 12.0 C\n"
     ]
    }
   ],
   "source": [
    "print('Средняя температура в странах:')\n",
    "for country, temp in countries_temperature:\n",
    "    average_temp = sum(temp)/len(temp)\n",
    "    average_temp_celsius = round(((average_temp - 32)/1.8), 1)\n",
    "    print(f'{country} - {average_temp_celsius} C')"
   ]
  }
 ],
 "metadata": {
  "kernelspec": {
   "display_name": "Python 3",
   "language": "python",
   "name": "python3"
  },
  "language_info": {
   "codemirror_mode": {
    "name": "ipython",
    "version": 3
   },
   "file_extension": ".py",
   "mimetype": "text/x-python",
   "name": "python",
   "nbconvert_exporter": "python",
   "pygments_lexer": "ipython3",
   "version": "3.8.5"
  }
 },
 "nbformat": 4,
 "nbformat_minor": 4
}
